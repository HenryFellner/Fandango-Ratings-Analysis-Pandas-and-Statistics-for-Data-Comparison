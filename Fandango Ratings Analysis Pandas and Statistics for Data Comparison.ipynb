{
 "cells": [
  {
   "cell_type": "markdown",
   "metadata": {},
   "source": [
    "# Has Fandango Stopped Inflating Movie Ratings?\n",
    "\n",
    "Journalist Walt Hickey found in 2015 that movie ticket and rating site Fandango has been inflating their ratings. It was seen that every average rating for a movie was being rounded up to the nearest .5 stars, so a movie rated 4.1 would be upped to a 4.5. In some cases, these inflations were even more than .5. The site claims this to be accidental, however considering the site is used as a vender to sell tickets, it could possibly be considered false advertising.\n",
    "\n",
    "In this project, we will compare Hickey's data with new data from Fandango, from 2016-17. Thwe goal is to see if that inflation has at all changed. We start by reading in the datasets."
   ]
  },
  {
   "cell_type": "code",
   "execution_count": 1,
   "metadata": {
    "collapsed": false
   },
   "outputs": [
    {
     "name": "stdout",
     "output_type": "stream",
     "text": [
      "                             FILM  RottenTomatoes  RottenTomatoes_User  \\\n",
      "0  Avengers: Age of Ultron (2015)              74                   86   \n",
      "1               Cinderella (2015)              85                   80   \n",
      "\n",
      "   Metacritic  Metacritic_User  IMDB  Fandango_Stars  Fandango_Ratingvalue  \\\n",
      "0          66              7.1   7.8             5.0                   4.5   \n",
      "1          67              7.5   7.1             5.0                   4.5   \n",
      "\n",
      "   RT_norm  RT_user_norm         ...           IMDB_norm  RT_norm_round  \\\n",
      "0     3.70           4.3         ...                3.90            3.5   \n",
      "1     4.25           4.0         ...                3.55            4.5   \n",
      "\n",
      "   RT_user_norm_round  Metacritic_norm_round  Metacritic_user_norm_round  \\\n",
      "0                 4.5                    3.5                         3.5   \n",
      "1                 4.0                    3.5                         4.0   \n",
      "\n",
      "   IMDB_norm_round  Metacritic_user_vote_count  IMDB_user_vote_count  \\\n",
      "0              4.0                        1330                271107   \n",
      "1              3.5                         249                 65709   \n",
      "\n",
      "   Fandango_votes  Fandango_Difference  \n",
      "0           14846                  0.5  \n",
      "1           12640                  0.5  \n",
      "\n",
      "[2 rows x 22 columns]\n",
      "                 movie  year  metascore  imdb  tmeter  audience  fandango  \\\n",
      "0  10 Cloverfield Lane  2016         76   7.2      90        79       3.5   \n",
      "1             13 Hours  2016         48   7.3      50        83       4.5   \n",
      "\n",
      "   n_metascore  n_imdb  n_tmeter  n_audience  nr_metascore  nr_imdb  \\\n",
      "0          3.8    3.60       4.5        3.95           4.0      3.5   \n",
      "1          2.4    3.65       2.5        4.15           2.5      3.5   \n",
      "\n",
      "   nr_tmeter  nr_audience  \n",
      "0        4.5          4.0  \n",
      "1        2.5          4.0  \n"
     ]
    }
   ],
   "source": [
    "import pandas as pd\n",
    "fand_scores = pd.read_csv('fandango_score_comparison.csv')\n",
    "movie_rats = pd.read_csv('movie_ratings_16_17.csv')\n",
    "print(fand_scores.head(2))\n",
    "print(movie_rats.head(2))"
   ]
  },
  {
   "cell_type": "markdown",
   "metadata": {},
   "source": [
    "We can get a vibe for what sort of data is in each dataset. Now we can isolate just the columns we're interested in their fandango scores, into the Hickey dataset and the new data after the article was released."
   ]
  },
  {
   "cell_type": "code",
   "execution_count": 5,
   "metadata": {
    "collapsed": false
   },
   "outputs": [],
   "source": [
    "hickey = fand_scores[['FILM','Fandango_Stars', 'Fandango_Ratingvalue', 'Fandango_votes', 'Fandango_Difference']].copy()\n",
    "after = movie_rats[['movie', 'year','fandango']].copy()"
   ]
  },
  {
   "cell_type": "markdown",
   "metadata": {},
   "source": [
    "We can see in the README documentation for the two libraries that the Hickey dataset uses all movies within the population that were popular enough to receive enough ratings and had ticket sales during 2015, while the after dataset used an assumedly random sample of over 200 movies that also have a threshold of popularity. \n",
    "\n",
    "So the sample isn't fully random, as it assumes a certain degree of popularity, but if we shift our population from \"all movies\" to \"popular movies\", the datasets seem properly representative.\n",
    "\n",
    "Our goal is thus to see if *From 2015 to 2016, has Fandango ceased inflating the ratings of **popular** movies?*"
   ]
  },
  {
   "cell_type": "markdown",
   "metadata": {},
   "source": [
    "### Isolatng the Data\n",
    "\n",
    "So what qualifies a popular movie? In Hickey's dataset, only movies with over 30 ratings are considered popular. While this is an arbitrary benchmark, it is a good definition to have consistency. The new dataset for 16-17 doesn't include a column for number of ratings.\n",
    "\n",
    "We can check the number of ratings by just checking a small sample:"
   ]
  },
  {
   "cell_type": "code",
   "execution_count": 6,
   "metadata": {
    "collapsed": false
   },
   "outputs": [
    {
     "data": {
      "text/html": [
       "<div>\n",
       "<style scoped>\n",
       "    .dataframe tbody tr th:only-of-type {\n",
       "        vertical-align: middle;\n",
       "    }\n",
       "\n",
       "    .dataframe tbody tr th {\n",
       "        vertical-align: top;\n",
       "    }\n",
       "\n",
       "    .dataframe thead th {\n",
       "        text-align: right;\n",
       "    }\n",
       "</style>\n",
       "<table border=\"1\" class=\"dataframe\">\n",
       "  <thead>\n",
       "    <tr style=\"text-align: right;\">\n",
       "      <th></th>\n",
       "      <th>movie</th>\n",
       "      <th>year</th>\n",
       "      <th>fandango</th>\n",
       "    </tr>\n",
       "  </thead>\n",
       "  <tbody>\n",
       "    <tr>\n",
       "      <th>197</th>\n",
       "      <td>The Take (Bastille Day)</td>\n",
       "      <td>2016</td>\n",
       "      <td>4.0</td>\n",
       "    </tr>\n",
       "    <tr>\n",
       "      <th>37</th>\n",
       "      <td>Come and Find Me</td>\n",
       "      <td>2016</td>\n",
       "      <td>4.0</td>\n",
       "    </tr>\n",
       "    <tr>\n",
       "      <th>89</th>\n",
       "      <td>Kickboxer</td>\n",
       "      <td>2016</td>\n",
       "      <td>4.0</td>\n",
       "    </tr>\n",
       "    <tr>\n",
       "      <th>176</th>\n",
       "      <td>The Founder</td>\n",
       "      <td>2016</td>\n",
       "      <td>4.0</td>\n",
       "    </tr>\n",
       "    <tr>\n",
       "      <th>170</th>\n",
       "      <td>The Darkness</td>\n",
       "      <td>2016</td>\n",
       "      <td>2.5</td>\n",
       "    </tr>\n",
       "    <tr>\n",
       "      <th>75</th>\n",
       "      <td>Ice Age: Collision Course</td>\n",
       "      <td>2016</td>\n",
       "      <td>4.0</td>\n",
       "    </tr>\n",
       "    <tr>\n",
       "      <th>96</th>\n",
       "      <td>Lion</td>\n",
       "      <td>2016</td>\n",
       "      <td>4.0</td>\n",
       "    </tr>\n",
       "    <tr>\n",
       "      <th>137</th>\n",
       "      <td>Ride Along 2</td>\n",
       "      <td>2016</td>\n",
       "      <td>4.0</td>\n",
       "    </tr>\n",
       "    <tr>\n",
       "      <th>5</th>\n",
       "      <td>A Monster Calls</td>\n",
       "      <td>2016</td>\n",
       "      <td>4.0</td>\n",
       "    </tr>\n",
       "    <tr>\n",
       "      <th>83</th>\n",
       "      <td>Jane Got a Gun</td>\n",
       "      <td>2016</td>\n",
       "      <td>3.5</td>\n",
       "    </tr>\n",
       "  </tbody>\n",
       "</table>\n",
       "</div>"
      ],
      "text/plain": [
       "                         movie  year  fandango\n",
       "197    The Take (Bastille Day)  2016       4.0\n",
       "37            Come and Find Me  2016       4.0\n",
       "89                   Kickboxer  2016       4.0\n",
       "176                The Founder  2016       4.0\n",
       "170               The Darkness  2016       2.5\n",
       "75   Ice Age: Collision Course  2016       4.0\n",
       "96                        Lion  2016       4.0\n",
       "137               Ride Along 2  2016       4.0\n",
       "5              A Monster Calls  2016       4.0\n",
       "83              Jane Got a Gun  2016       3.5"
      ]
     },
     "execution_count": 6,
     "metadata": {},
     "output_type": "execute_result"
    }
   ],
   "source": [
    "after.sample(10, random_state = 0)"
   ]
  },
  {
   "cell_type": "markdown",
   "metadata": {},
   "source": [
    "By looking manually at these ten movies we can see... Not much! As Fandango has discontinued their rating system, replacing it with Rotten Tomatoes. That said, 9/10 of these movies, all except \"Come and Find Me\" have over 30 ratings on Rotten Tomatoes. 90% is a good indicator that this properly represents popular movies from the time. "
   ]
  },
  {
   "cell_type": "code",
   "execution_count": 7,
   "metadata": {
    "collapsed": false
   },
   "outputs": [
    {
     "name": "stdout",
     "output_type": "stream",
     "text": [
      "Empty DataFrame\n",
      "Columns: [FILM, Fandango_Stars, Fandango_Ratingvalue, Fandango_votes, Fandango_Difference]\n",
      "Index: []\n"
     ]
    }
   ],
   "source": [
    "print(hickey[hickey['Fandango_votes'] < 30])"
   ]
  },
  {
   "cell_type": "markdown",
   "metadata": {},
   "source": [
    "We can see here that Hickey's qualification of at least thirty reviews is indeed applied to his dataset. \n",
    "\n",
    "As we are specifcally looking from 2015 to 2016, we need to isolate all movies in the Hickey dataset specifically released in 2016, and all from the After dataset released during 2016. For the Hickey dataset, the year is within the 'FILM' column, stored between parenthesis. we can isolate the year using a regular expression."
   ]
  },
  {
   "cell_type": "code",
   "execution_count": 20,
   "metadata": {
    "collapsed": false
   },
   "outputs": [
    {
     "name": "stdout",
     "output_type": "stream",
     "text": [
      "2015    129\n",
      "2014     17\n",
      "Name: FILM, dtype: int64\n"
     ]
    }
   ],
   "source": [
    "hickey_years = hickey['FILM'].str.extract(r'\\((201[0-9])\\)', expand = False)\n",
    "print(hickey_years.value_counts())"
   ]
  },
  {
   "cell_type": "markdown",
   "metadata": {},
   "source": [
    "We can see we have 129 rows from 2015, and 17 rows in 2014. Let's create a new filtered dataset only with 2015."
   ]
  },
  {
   "cell_type": "code",
   "execution_count": 26,
   "metadata": {
    "collapsed": false
   },
   "outputs": [
    {
     "name": "stdout",
     "output_type": "stream",
     "text": [
      "FILM                    129\n",
      "Fandango_Stars          129\n",
      "Fandango_Ratingvalue    129\n",
      "Fandango_votes          129\n",
      "Fandango_Difference     129\n",
      "dtype: int64\n"
     ]
    }
   ],
   "source": [
    "hickey_2015 = hickey[hickey['FILM'].str.contains(r'\\(2015\\)')]\n",
    "print(hickey_2015.count())"
   ]
  },
  {
   "cell_type": "markdown",
   "metadata": {},
   "source": [
    "Great! We now have a complete dataset with 129 rows. Let's do the same to the after dataset."
   ]
  },
  {
   "cell_type": "code",
   "execution_count": 27,
   "metadata": {
    "collapsed": false
   },
   "outputs": [
    {
     "data": {
      "text/plain": [
       "2016    191\n",
       "2017     23\n",
       "Name: year, dtype: int64"
      ]
     },
     "execution_count": 27,
     "metadata": {},
     "output_type": "execute_result"
    }
   ],
   "source": [
    "after['year'].value_counts()"
   ]
  },
  {
   "cell_type": "markdown",
   "metadata": {},
   "source": [
    "We must remove the 23 values from 2017."
   ]
  },
  {
   "cell_type": "code",
   "execution_count": 29,
   "metadata": {
    "collapsed": false
   },
   "outputs": [
    {
     "data": {
      "text/plain": [
       "2016    191\n",
       "Name: year, dtype: int64"
      ]
     },
     "execution_count": 29,
     "metadata": {},
     "output_type": "execute_result"
    }
   ],
   "source": [
    "after_2016 = after[after['year'] == 2016]\n",
    "after_2016['year'].value_counts()"
   ]
  },
  {
   "cell_type": "markdown",
   "metadata": {},
   "source": [
    "## Comparing Disribution Shapes Year to Year\n",
    "\n",
    "Now that we've isolated the data, we can start to get to the meat of the analysis. Let's compare those Fandango ratings! To start, we create a kernel density plot."
   ]
  },
  {
   "cell_type": "code",
   "execution_count": 37,
   "metadata": {
    "collapsed": false
   },
   "outputs": [
    {
     "data": {
      "image/png": "[encoded data removed]",
      "text/plain": [
       "<matplotlib.figure.Figure at 0x7f7e7c2c5c88>"
      ]
     },
     "metadata": {},
     "output_type": "display_data"
    }
   ],
   "source": [
    "from numpy import arange\n",
    "import matplotlib.pyplot as plt\n",
    "%matplotlib inline\n",
    "\n",
    "plt.style.use('fivethirtyeight')\n",
    "hickey_2015['Fandango_Stars'].plot.kde(label = '2015', legend = True)\n",
    "after_2016['fandango'].plot.kde(label = '2016', legend = True)\n",
    "plt.title('Fandango Ratings from 2015 to 2016', y = 1.1)\n",
    "plt.xlabel('Rating (Stars)')\n",
    "plt.ylabel('')\n",
    "plt.xlim(1,5) # because ratings start at 0 and end at 5, but no movies receive under a 2, let alone 1..\n",
    "plt.xticks(arange(1,5.1,.5))\n",
    "plt.show()"
   ]
  },
  {
   "cell_type": "markdown",
   "metadata": {},
   "source": [
    "We can see that the 2015 ratings are significantly higher than the 2016 ratings. Both skew to the left, as movies tend to get between 3 and 5 stars, but while the mode for 2016 appears to be 4.5, in 2015 it is 4. This could indicate that the score inflation has indeed ceased.\n",
    "\n",
    "Let's look at the actual data, and compare the proportional frequencies of each rating from year to year."
   ]
  },
  {
   "cell_type": "code",
   "execution_count": 51,
   "metadata": {
    "collapsed": false
   },
   "outputs": [
    {
     "name": "stdout",
     "output_type": "stream",
     "text": [
      "2015\n",
      "5.0     6.98\n",
      "4.5    37.98\n",
      "4.0    28.68\n",
      "3.5    17.83\n",
      "3.0     8.53\n",
      "Name: Fandango_Stars, dtype: float64\n",
      "\n",
      "2016\n",
      "5.0     0.52\n",
      "4.5    24.61\n",
      "4.0    40.31\n",
      "3.5    24.08\n",
      "3.0     7.33\n",
      "2.5     3.14\n",
      "Name: fandango, dtype: float64\n"
     ]
    }
   ],
   "source": [
    "print('2015')\n",
    "print(hickey_2015['Fandango_Stars'].value_counts(normalize = True).sort_index(ascending = False).round(4)*100)\n",
    "print('\\n' + '2016')\n",
    "print(after_2016['fandango'].value_counts(normalize = True).sort_index(ascending = False).round(4)*100)"
   ]
  },
  {
   "cell_type": "markdown",
   "metadata": {},
   "source": [
    "We can still see clearly a difference between the two systems. In 2015, it was impossible for a popular movie to even get 2.5 stars! \n",
    "\n",
    "45% of popular films had 4.5 stars or higher, compared to 25% in 2016. \n",
    "\n",
    "25% of popular films in 2015 were below 4 stars, while in 2016 that number increased to almost 35%.\n",
    "\n",
    "Let's confirm our findings with summary statistics."
   ]
  },
  {
   "cell_type": "code",
   "execution_count": 59,
   "metadata": {
    "collapsed": false
   },
   "outputs": [
    {
     "data": {
      "text/html": [
       "<div>\n",
       "<style scoped>\n",
       "    .dataframe tbody tr th:only-of-type {\n",
       "        vertical-align: middle;\n",
       "    }\n",
       "\n",
       "    .dataframe tbody tr th {\n",
       "        vertical-align: top;\n",
       "    }\n",
       "\n",
       "    .dataframe thead th {\n",
       "        text-align: right;\n",
       "    }\n",
       "</style>\n",
       "<table border=\"1\" class=\"dataframe\">\n",
       "  <thead>\n",
       "    <tr style=\"text-align: right;\">\n",
       "      <th></th>\n",
       "      <th>2015</th>\n",
       "      <th>2016</th>\n",
       "    </tr>\n",
       "  </thead>\n",
       "  <tbody>\n",
       "    <tr>\n",
       "      <th>mean</th>\n",
       "      <td>4.085</td>\n",
       "      <td>3.887</td>\n",
       "    </tr>\n",
       "    <tr>\n",
       "      <th>median</th>\n",
       "      <td>4.000</td>\n",
       "      <td>4.000</td>\n",
       "    </tr>\n",
       "    <tr>\n",
       "      <th>mode</th>\n",
       "      <td>4.500</td>\n",
       "      <td>4.000</td>\n",
       "    </tr>\n",
       "  </tbody>\n",
       "</table>\n",
       "</div>"
      ],
      "text/plain": [
       "         2015   2016\n",
       "mean    4.085  3.887\n",
       "median  4.000  4.000\n",
       "mode    4.500  4.000"
      ]
     },
     "execution_count": 59,
     "metadata": {},
     "output_type": "execute_result"
    }
   ],
   "source": [
    "summary_2015 = [hickey_2015['Fandango_Stars'].mean().round(3), hickey_2015['Fandango_Stars'].median(),hickey_2015['Fandango_Stars'].mode()[0]]\n",
    "summary_2016 = [after_2016['fandango'].mean().round(3),after_2016['fandango'].median(),after_2016['fandango'].mode()[0]]#[0] for formatting\n",
    "summary = pd.DataFrame()\n",
    "summary['2015'] = summary_2015\n",
    "summary['2016'] = summary_2016\n",
    "summary.index = ['mean', 'median', 'mode']\n",
    "summary"
   ]
  },
  {
   "cell_type": "code",
   "execution_count": 74,
   "metadata": {
    "collapsed": false
   },
   "outputs": [
    {
     "data": {
      "image/png": "[encoded data removed]",
      "text/plain": [
       "<matplotlib.figure.Figure at 0x7f7e7bc21710>"
      ]
     },
     "metadata": {},
     "output_type": "display_data"
    }
   ],
   "source": [
    "plt.style.use('fivethirtyeight')\n",
    "summary['2015'].plot.bar(color = '#0066FF', label = '2015')\n",
    "summary['2016'].plot.bar(color = '#EE0000', label = '2016',align = 'edge', rot =0)\n",
    "\n",
    "plt.title('Comparing summary statistics: 2015 vs 2016')\n",
    "plt.ylim(0,5.5)\n",
    "plt.yticks(arange(0,5.1,.5))\n",
    "plt.ylabel('Stars')\n",
    "plt.legend(framealpha = 0, loc = 'upper center')\n",
    "plt.show()"
   ]
  },
  {
   "cell_type": "markdown",
   "metadata": {},
   "source": [
    "## Conclusion\n",
    "\n",
    "Once again, we see there is a difference between the two years. The mean Fandango rating has decreased as well as the mode. It isn't an astronomical difference, as indicated by the median remaining the same, but considering the scale only has 11 possible values, where 2 stars or below, five of the values, never occur, this is a significant change."
   ]
  }
 ],
 "metadata": {
  "kernelspec": {
   "display_name": "Python 3",
   "language": "python",
   "name": "python3"
  },
  "language_info": {
   "codemirror_mode": {
    "name": "ipython",
    "version": 3
   },
   "file_extension": ".py",
   "mimetype": "text/x-python",
   "name": "python",
   "nbconvert_exporter": "python",
   "pygments_lexer": "ipython3",
   "version": "3.4.3"
  }
 },
 "nbformat": 4,
 "nbformat_minor": 2
}
